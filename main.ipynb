{
 "cells": [
  {
   "cell_type": "code",
   "execution_count": 2,
   "metadata": {},
   "outputs": [],
   "source": [
    "# import all important libraries\n",
    "import pandas as pd\n",
    "import matplotlib as mpl\n",
    "import matplotlib.pyplot as plt\n",
    "from mplsoccer.pitch import Pitch"
   ]
  },
  {
   "cell_type": "code",
   "execution_count": 3,
   "metadata": {},
   "outputs": [],
   "source": [
    "# set general use colors\n",
    "text_color = 'white'"
   ]
  },
  {
   "cell_type": "code",
   "execution_count": 4,
   "metadata": {},
   "outputs": [
    {
     "data": {
      "text/html": [
       "<div>\n",
       "<style scoped>\n",
       "    .dataframe tbody tr th:only-of-type {\n",
       "        vertical-align: middle;\n",
       "    }\n",
       "\n",
       "    .dataframe tbody tr th {\n",
       "        vertical-align: top;\n",
       "    }\n",
       "\n",
       "    .dataframe thead th {\n",
       "        text-align: right;\n",
       "    }\n",
       "</style>\n",
       "<table border=\"1\" class=\"dataframe\">\n",
       "  <thead>\n",
       "    <tr style=\"text-align: right;\">\n",
       "      <th></th>\n",
       "      <th>minute</th>\n",
       "      <th>second</th>\n",
       "      <th>team</th>\n",
       "      <th>x</th>\n",
       "      <th>y</th>\n",
       "      <th>outcome</th>\n",
       "    </tr>\n",
       "  </thead>\n",
       "  <tbody>\n",
       "    <tr>\n",
       "      <th>0</th>\n",
       "      <td>21</td>\n",
       "      <td>42</td>\n",
       "      <td>Barcelona</td>\n",
       "      <td>50.88</td>\n",
       "      <td>85.20</td>\n",
       "      <td>Saved</td>\n",
       "    </tr>\n",
       "    <tr>\n",
       "      <th>1</th>\n",
       "      <td>29</td>\n",
       "      <td>33</td>\n",
       "      <td>Barcelona</td>\n",
       "      <td>34.96</td>\n",
       "      <td>91.68</td>\n",
       "      <td>Missed</td>\n",
       "    </tr>\n",
       "    <tr>\n",
       "      <th>2</th>\n",
       "      <td>35</td>\n",
       "      <td>3</td>\n",
       "      <td>Barcelona</td>\n",
       "      <td>44.40</td>\n",
       "      <td>101.64</td>\n",
       "      <td>Saved</td>\n",
       "    </tr>\n",
       "    <tr>\n",
       "      <th>3</th>\n",
       "      <td>41</td>\n",
       "      <td>3</td>\n",
       "      <td>Barcelona</td>\n",
       "      <td>27.92</td>\n",
       "      <td>96.36</td>\n",
       "      <td>Saved</td>\n",
       "    </tr>\n",
       "    <tr>\n",
       "      <th>4</th>\n",
       "      <td>42</td>\n",
       "      <td>9</td>\n",
       "      <td>Barcelona</td>\n",
       "      <td>50.40</td>\n",
       "      <td>104.88</td>\n",
       "      <td>Saved</td>\n",
       "    </tr>\n",
       "  </tbody>\n",
       "</table>\n",
       "</div>"
      ],
      "text/plain": [
       "   minute  second       team      x       y outcome\n",
       "0      21      42  Barcelona  50.88   85.20   Saved\n",
       "1      29      33  Barcelona  34.96   91.68  Missed\n",
       "2      35       3  Barcelona  44.40  101.64   Saved\n",
       "3      41       3  Barcelona  27.92   96.36   Saved\n",
       "4      42       9  Barcelona  50.40  104.88   Saved"
      ]
     },
     "execution_count": 4,
     "metadata": {},
     "output_type": "execute_result"
    }
   ],
   "source": [
    "data = pd.read_csv('data.csv')\n"
   ]
  },
  {
   "cell_type": "code",
   "execution_count": 31,
   "metadata": {},
   "outputs": [
    {
     "data": {
      "text/plain": [
       "Text(0.5, 1.0, 'Barcelona vs Juventus')"
      ]
     },
     "execution_count": 31,
     "metadata": {},
     "output_type": "execute_result"
    },
    {
     "data": {
      "image/png": "[encoded data removed]",
      "text/plain": [
       "<Figure size 936x612 with 1 Axes>"
      ]
     },
     "metadata": {},
     "output_type": "display_data"
    }
   ],
   "source": [
    "# set the figure\n",
    "fig,ax = plt.subplots(figsize=(13,8.5))\n",
    "\n",
    "# set the figure colror\n",
    "fig.set_facecolor('#22312b')\n",
    "\n",
    "# set the patch color\n",
    "ax.patch.set_facecolor('#22312b')\n",
    "\n",
    "# draw the pitch on main figure\n",
    "pitch = VerticalPitch(pitch_color='Black', line_color='white', stripe=False,half=True)\n",
    "pitch.draw(ax=ax)\n",
    "\n",
    "plt.gca().invert_yaxis()\n",
    "\n",
    "# plot the actual points\n",
    "plt.scatter(data['x'],data['y'],s=130,alpha=0.6)\n",
    "plt.title('Barcelona vs Juventus',c=text_color,fontsize=24)"
   ]
  },
  {
   "cell_type": "code",
   "execution_count": null,
   "metadata": {},
   "outputs": [],
   "source": []
  }
 ],
 "metadata": {
  "kernelspec": {
   "display_name": "Python 3",
   "language": "python",
   "name": "python3"
  },
  "language_info": {
   "codemirror_mode": {
    "name": "ipython",
    "version": 3
   },
   "file_extension": ".py",
   "mimetype": "text/x-python",
   "name": "python",
   "nbconvert_exporter": "python",
   "pygments_lexer": "ipython3",
   "version": "3.9.0"
  },
  "orig_nbformat": 4,
  "vscode": {
   "interpreter": {
    "hash": "3a10e7853a6af272243702461df9837e9a4c6cc67f2cc84bf8c65c3512771307"
   }
  }
 },
 "nbformat": 4,
 "nbformat_minor": 2
}
